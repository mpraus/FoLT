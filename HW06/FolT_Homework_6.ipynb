{
  "nbformat": 4,
  "nbformat_minor": 0,
  "metadata": {
    "colab": {
      "name": "FolT_Homework_6.ipynb",
      "provenance": []
    },
    "kernelspec": {
      "name": "python3",
      "display_name": "Python 3"
    }
  },
  "cells": [
    {
      "cell_type": "markdown",
      "metadata": {
        "id": "xXTZ3sthLr87"
      },
      "source": [
        "# **FolT Homework 6**\n"
      ]
    },
    {
      "cell_type": "code",
      "metadata": {
        "id": "KlpPiaEuSTw8"
      },
      "source": [
        "# Execute before and only in colab, if you use jupyter ignore this cell\n",
        "!pip install --target=$nb_path nltk==3.5\n",
        "!python3 -m nltk.downloader popular\n",
        "!python3 -m nltk.downloader book"
      ],
      "execution_count": null,
      "outputs": []
    },
    {
      "cell_type": "markdown",
      "metadata": {
        "id": "Eo3mepfqL17n"
      },
      "source": [
        "### Homework 6.1 (10 points)\n",
        "Implement an SMS decoder.  Similar to the T9 system on mobile phones, your decodershould translate from digit sequences to words:\n"
      ]
    },
    {
      "cell_type": "markdown",
      "metadata": {
        "id": "RpSGy2VXyxDi"
      },
      "source": [
        "a) Choose at least one appropriate corpus and discuss,  why you chose this corpus. You will use the corpus toestimate which word is more frequent and should be a preferred output."
      ]
    },
    {
      "cell_type": "markdown",
      "metadata": {
        "id": "K_tNVwBc_0rP"
      },
      "source": [
        "Add answer"
      ]
    },
    {
      "cell_type": "markdown",
      "metadata": {
        "id": "6tGGj8oPzAA9"
      },
      "source": [
        "b) Implement a function `get_T9_word(digits)` which for a given sequence of digits, e.g. \"252473\", returns themost likely word, e.g. \"Claire\""
      ]
    },
    {
      "cell_type": "code",
      "metadata": {
        "id": "uLsvPUGzzMAB"
      },
      "source": [
        "def get_T9_word(digits):\n",
        "  pass"
      ],
      "execution_count": null,
      "outputs": []
    },
    {
      "cell_type": "code",
      "metadata": {
        "id": "R7mezYVWSaCw"
      },
      "source": [
        "# Test\n",
        "print(get_T9_word('252473')) # claire\n",
        "print(get_T9_word('4663'), get_T9_word('3836464')) # good evening\n",
        "print(get_T9_word('9352663')) # welcome\n",
        "print(get_T9_word('4373')) # here\n",
        "print(get_T9_word('1111')) # no word"
      ],
      "execution_count": null,
      "outputs": []
    },
    {
      "cell_type": "markdown",
      "metadata": {
        "id": "mZtXyvPnzMO9"
      },
      "source": [
        "c) Apply the decoder to each digit sequence in this “sentence”: \n",
        "\n",
        "`['43556','69','374363','73837','4','26','3463']`\n",
        "\n",
        "The original sentence was: *“hello my friend peter i am fine”* \n",
        "\n",
        "Is the output readable?\n",
        "What errors have been made?"
      ]
    },
    {
      "cell_type": "code",
      "metadata": {
        "id": "Jorpp4s_zavS"
      },
      "source": [
        "digits = ['43556','69','374363','73837','4','26','3463']"
      ],
      "execution_count": null,
      "outputs": []
    },
    {
      "cell_type": "code",
      "metadata": {
        "id": "RKi0X2qtzhY9"
      },
      "source": [
        "# add code"
      ],
      "execution_count": null,
      "outputs": []
    },
    {
      "cell_type": "markdown",
      "metadata": {
        "id": "f86SeXyA_oQy"
      },
      "source": [
        "Add answer"
      ]
    },
    {
      "cell_type": "markdown",
      "metadata": {
        "id": "8sXsfq0Czhrl"
      },
      "source": [
        "### Homework 6.2\n",
        "This is a quite complicated optional task that you might explore if you are interested. It will not countas part of the official homework assignment.Improve the SMS decoder of homework 6.1 as follows:"
      ]
    },
    {
      "cell_type": "markdown",
      "metadata": {
        "id": "Prg6be0VzxRR"
      },
      "source": [
        "a) Take the context into account, guess the word using the bigram probability of the previous entered word with the function `get_T9_word(prevW ord, number)`. Test the improvement with the `(context_word, digit)` tuples inthe following list:"
      ]
    },
    {
      "cell_type": "code",
      "metadata": {
        "id": "T7KWUynk0fxn"
      },
      "source": [
        "def get_T9_word(prevWord, number):\n",
        "  pass"
      ],
      "execution_count": null,
      "outputs": []
    },
    {
      "cell_type": "code",
      "metadata": {
        "id": "Pj-AkagRz-k8"
      },
      "source": [
        "# Test\n",
        "print(get_T9_word('i',    '26'))\n",
        "print(get_T9_word('its',  '26'))\n",
        "print(get_T9_word('a',    '3463'))\n",
        "print(get_T9_word('will', '3463'))\n",
        "print(get_T9_word('the',  '1111'))"
      ],
      "execution_count": null,
      "outputs": []
    },
    {
      "cell_type": "markdown",
      "metadata": {
        "id": "xcFgobGfz-wr"
      },
      "source": [
        "(b)  Apply the decoder to each digit sequence in this “sentence”:\n",
        "\n",
        "`['43556','69','374363','73837','4','26','3463']`\n",
        "\n",
        "The original sentence was: *“hello my friend peter i am fine”* \n",
        "\n",
        "Is the output readable? What errors have been made?"
      ]
    },
    {
      "cell_type": "code",
      "metadata": {
        "id": "xxOjyFKj0kJa"
      },
      "source": [
        "digits = ['43556','69','374363','73837','4','26','3463']"
      ],
      "execution_count": null,
      "outputs": []
    },
    {
      "cell_type": "code",
      "metadata": {
        "id": "05zGvqpjz-_1"
      },
      "source": [
        "# add code "
      ],
      "execution_count": null,
      "outputs": []
    },
    {
      "cell_type": "markdown",
      "metadata": {
        "id": "32AY3Jcr_ZUz"
      },
      "source": [
        "Add answer"
      ]
    }
  ]
}