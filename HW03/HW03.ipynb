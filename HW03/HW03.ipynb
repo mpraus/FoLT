{
 "cells": [
  {
   "cell_type": "markdown",
   "metadata": {},
   "source": [
    "# FoLT Homework 3\n",
    "## Alexander Praus, Maike Arnold"
   ]
  },
  {
   "cell_type": "markdown",
   "metadata": {},
   "source": [
    "## 3.1"
   ]
  },
  {
   "cell_type": "code",
   "execution_count": 1,
   "metadata": {},
   "outputs": [
    {
     "name": "stdout",
     "output_type": "stream",
     "text": [
      "*** Introductory Examples for the NLTK Book ***\n",
      "Loading text1, ..., text9 and sent1, ..., sent9\n",
      "Type the name of the text or sentence to view it.\n",
      "Type: 'texts()' or 'sents()' to list the materials.\n",
      "text1: Moby Dick by Herman Melville 1851\n",
      "text2: Sense and Sensibility by Jane Austen 1811\n",
      "text3: The Book of Genesis\n",
      "text4: Inaugural Address Corpus\n",
      "text5: Chat Corpus\n",
      "text6: Monty Python and the Holy Grail\n",
      "text7: Wall Street Journal\n",
      "text8: Personals Corpus\n",
      "text9: The Man Who Was Thursday by G . K . Chesterton 1908\n"
     ]
    }
   ],
   "source": [
    "# Set Up\n",
    "from nltk import *\n",
    "from nltk.book import *\n",
    "import math"
   ]
  },
  {
   "cell_type": "markdown",
   "metadata": {},
   "source": [
    "### a)"
   ]
  },
  {
   "cell_type": "code",
   "execution_count": 2,
   "metadata": {},
   "outputs": [],
   "source": [
    "# Get the whole corpus as a list of words\n",
    "# corpus_words = nltk.corpus.corpus_name.words()\n",
    "# Access ids of texts that are available in the corpus:\n",
    "# print(\"File ids: \", nltk.corpus.corpus_name.fileids())\n",
    "# Retrieve a certain text by id\n",
    "# file_words = nltk.corpus.corpus_name.words('some_file.txt')"
   ]
  },
  {
   "cell_type": "markdown",
   "metadata": {},
   "source": [
    "### b)"
   ]
  },
  {
   "cell_type": "code",
   "execution_count": 3,
   "metadata": {},
   "outputs": [],
   "source": [
    "fdist_fg = FreqDist(bigrams(corpus.gutenberg.words('carroll-alice.txt')))\n",
    "\n",
    "fdist_bg = FreqDist(bigrams(corpus.brown.words()))"
   ]
  },
  {
   "cell_type": "markdown",
   "metadata": {},
   "source": [
    "### c)\n"
   ]
  },
  {
   "cell_type": "code",
   "execution_count": 4,
   "metadata": {},
   "outputs": [],
   "source": [
    "def compute_LL(phrase, fdist_fg, fdist_bg):\n",
    "    A = fdist_fg[phrase]\n",
    "    B = fdist_bg[phrase]\n",
    "    C = fdist_fg.N()\n",
    "    D = fdist_bg.N()\n",
    "    E1 = C*(A+B)/(C+D)\n",
    "    E2 = D*(A+B)/(C+D)\n",
    "    \n",
    "    T1 = 0\n",
    "    T2 = 0\n",
    "    \n",
    "    if A != 0 and E1 != 0:\n",
    "        T1 = A * math.log(A/E1)\n",
    "    if B != 0 and E2 != 0:\n",
    "        T2 = B * math.log(B/E2)\n",
    "    \n",
    "    return 2 * (T1 + T2)"
   ]
  },
  {
   "cell_type": "markdown",
   "metadata": {},
   "source": [
    "### d)"
   ]
  },
  {
   "cell_type": "code",
   "execution_count": 5,
   "metadata": {},
   "outputs": [
    {
     "name": "stdout",
     "output_type": "stream",
     "text": [
      "[(('.', \"'\"), 2829.7388770547564), ((\"'\", 't'), 1536.447398313164), ((\",'\", 'said'), 1529.334215913566), ((\"'\", 's'), 1387.0705679216064), ((',', \"'\"), 1180.0443274724562), (('said', 'the'), 1151.4520814055595), ((\"'\", 'I'), 1122.5773884213088), (('I', \"'\"), 960.2796239457275), (('said', 'Alice'), 818.0159759537679), ((\".'\", \"'\"), 782.450063955778)]\n"
     ]
    }
   ],
   "source": [
    "ll_results = FreqDist()\n",
    "for phrase in fdist_fg:\n",
    "    ll_results[phrase] = compute_LL(phrase, fdist_fg, fdist_bg)\n",
    "print(ll_results.most_common(10))"
   ]
  },
  {
   "cell_type": "code",
   "execution_count": null,
   "metadata": {},
   "outputs": [],
   "source": []
  }
 ],
 "metadata": {
  "kernelspec": {
   "display_name": "Python 3",
   "language": "python",
   "name": "python3"
  },
  "language_info": {
   "codemirror_mode": {
    "name": "ipython",
    "version": 3
   },
   "file_extension": ".py",
   "mimetype": "text/x-python",
   "name": "python",
   "nbconvert_exporter": "python",
   "pygments_lexer": "ipython3",
   "version": "3.8.6"
  }
 },
 "nbformat": 4,
 "nbformat_minor": 4
}
