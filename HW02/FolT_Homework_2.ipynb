{
 "nbformat": 4,
 "nbformat_minor": 0,
 "metadata": {
  "colab": {
   "name": "FolT_Homework_2.ipynb",
   "provenance": []
  },
  "kernelspec": {
   "name": "python3",
   "display_name": "Python 3"
  }
 },
 "cells": [
  {
   "cell_type": "markdown",
   "metadata": {
    "id": "xXTZ3sthLr87"
   },
   "source": [
    "# **FolT Homework 2**\n"
   ]
  },
  {
   "cell_type": "code",
   "metadata": {
    "id": "KlpPiaEuSTw8"
   },
   "source": [
    "# Execute before and only in colab, if you use jupyter ignore this cell\n",
    "!pip install --target=$nb_path nltk==3.5\n",
    "!python3 -m nltk.downloader popular\n",
    "!python3 -m nltk.downloader book"
   ],
   "execution_count": null,
   "outputs": []
  },
  {
   "cell_type": "code",
   "metadata": {
    "id": "-6ckUIz6TPJn"
   },
   "source": [
    "# Excecute before\n",
    "from nltk import *\n",
    "from nltk.book import *"
   ],
   "execution_count": null,
   "outputs": []
  },
  {
   "cell_type": "markdown",
   "metadata": {
    "id": "Eo3mepfqL17n"
   },
   "source": [
    "### Homework 2.1 (5 points)\n",
    "An important problem in computational linguistics is morphological analysis. This consists of breaking down a word\n",
    "into its component pieces, for example losses might be broken down as loss + es. In English, morphology is relatively\n",
    "simple and is mostly comprised of prefixes and suffixes. To get an idea of what suffixes are common in English (and\n",
    "thus could be morphemes), we can look at the frequencies of the last two characters of sufficiently long words. Write\n",
    "a function ***top_suffixes(words)*** that takes a sequence of words as an input and returns the ***20 most frequent twocharacter suffixes*** of the input words. We define a two-character suffix as the last two characters of any word of ***length\n",
    "5*** or more, thus your function may simply ignore any word shorter than five characters. Your function should use the\n",
    "***NLTK FreqDist*** class to count these suffixes. Hint: You may use the following code snippets:\n"
   ]
  },
  {
   "cell_type": "code",
   "metadata": {
    "id": "uoLbzwl9rr3k"
   },
   "source": [
    "blake_words = corpus.gutenberg.words('blake-poems.txt')"
   ],
   "execution_count": null,
   "outputs": []
  },
  {
   "cell_type": "code",
   "metadata": {
    "id": "VJUV0DoQ3jub"
   },
   "source": [
    "# write your top_suffixes function here  "
   ],
   "execution_count": null,
   "outputs": []
  },
  {
   "cell_type": "code",
   "metadata": {
    "id": "mhYkdeLKrqPM"
   },
   "source": [
    "print(top_suffixes(blake_words)) # check your function\n",
    "\n",
    "# \"ed\" is a one of the most common english language suffixes \n",
    "# So this test should equal to true otherwise you need to look for mistakes in your implementation\n",
    "print(\"ed\" in top_suffixes(blake_words)) "
   ],
   "execution_count": null,
   "outputs": []
  },
  {
   "cell_type": "markdown",
   "metadata": {
    "id": "YD6pAe38SvnV"
   },
   "source": [
    "### Hints \n",
    "*   FreqDist(???).most_common(20) #what argument expects FreqDist?\n",
    "*   word[-2:] #result?\n",
    "* for word in words:\n",
    "  if len(word) > 4: ..."
   ]
  }
 ]
}