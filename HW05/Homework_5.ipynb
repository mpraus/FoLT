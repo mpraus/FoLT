{
 "cells": [
  {
   "cell_type": "markdown",
   "metadata": {},
   "source": [
    "# FoLT Homework 5\n",
    "## Alexander Praus, Maike Arnold"
   ]
  },
  {
   "cell_type": "code",
   "execution_count": null,
   "metadata": {
    "id": "kfgwV9E5B9c4"
   },
   "outputs": [],
   "source": [
    "# Execute before and only in colab, if you use jupyter ignore this cell\n",
    "!pip install --target=$nb_path nltk==3.5\n",
    "!python3 -m nltk.downloader wordnet"
   ]
  },
  {
   "cell_type": "code",
   "execution_count": 1,
   "metadata": {
    "id": "mYHoaiUQCWq3"
   },
   "outputs": [],
   "source": [
    "import scipy\n",
    "import nltk\n",
    "from nltk.corpus import wordnet"
   ]
  },
  {
   "cell_type": "markdown",
   "metadata": {
    "id": "IITIbSkxbpTt"
   },
   "source": [
    "## Homework 5.1 (a)"
   ]
  },
  {
   "cell_type": "code",
   "execution_count": 45,
   "metadata": {
    "id": "WtmmOIDIDjIK"
   },
   "outputs": [
    {
     "name": "stdout",
     "output_type": "stream",
     "text": [
      "(('car', 'automobile'), 1.0)\n",
      "(('gem', 'jewel'), 1.0)\n",
      "(('journey', 'voyage'), 0.5)\n",
      "(('boy', 'lad'), 0.5)\n",
      "(('coast', 'shore'), 0.5)\n",
      "(('asylum', 'madhouse'), 0.5)\n",
      "(('magician', 'wizard'), 1.0)\n",
      "(('midday', 'noon'), 1.0)\n",
      "(('furnace', 'stove'), 0.1)\n",
      "(('food', 'fruit'), 0.1)\n",
      "(('bird', 'cock'), 0.5)\n",
      "(('bird', 'crane'), 0.25)\n",
      "(('implement', 'tool'), 0.5)\n",
      "(('brother', 'monk'), 0.5)\n",
      "(('lad', 'brother'), 0.2)\n",
      "(('crane', 'implement'), 0.2)\n",
      "(('journey', 'car'), 0.08333333333333333)\n",
      "(('monk', 'oracle'), 0.125)\n",
      "(('cemetery', 'woodland'), 0.1111111111111111)\n",
      "(('food', 'rooster'), 0.0625)\n",
      "(('coast', 'hill'), 0.2)\n",
      "(('forest', 'graveyard'), 0.1111111111111111)\n",
      "(('shore', 'woodland'), 0.2)\n",
      "(('monk', 'slave'), 0.2)\n",
      "(('coast', 'forest'), 0.16666666666666666)\n",
      "(('lad', 'wizard'), 0.2)\n",
      "(('chord', 'smile'), 0.125)\n",
      "(('glass', 'magician'), 0.125)\n",
      "(('noon', 'string'), 0.08333333333333333)\n",
      "(('rooster', 'voyage'), 0.041666666666666664)\n",
      "[(('car', 'automobile'), 1.0), (('gem', 'jewel'), 1.0), (('magician', 'wizard'), 1.0), (('midday', 'noon'), 1.0), (('journey', 'voyage'), 0.5), (('boy', 'lad'), 0.5), (('coast', 'shore'), 0.5), (('asylum', 'madhouse'), 0.5), (('bird', 'cock'), 0.5), (('implement', 'tool'), 0.5), (('brother', 'monk'), 0.5), (('bird', 'crane'), 0.25), (('lad', 'brother'), 0.2), (('crane', 'implement'), 0.2), (('coast', 'hill'), 0.2), (('shore', 'woodland'), 0.2), (('monk', 'slave'), 0.2), (('lad', 'wizard'), 0.2), (('coast', 'forest'), 0.16666666666666666), (('monk', 'oracle'), 0.125), (('chord', 'smile'), 0.125), (('glass', 'magician'), 0.125), (('cemetery', 'woodland'), 0.1111111111111111), (('forest', 'graveyard'), 0.1111111111111111), (('furnace', 'stove'), 0.1), (('food', 'fruit'), 0.1), (('journey', 'car'), 0.08333333333333333), (('noon', 'string'), 0.08333333333333333), (('food', 'rooster'), 0.0625), (('rooster', 'voyage'), 0.041666666666666664)]\n"
     ]
    }
   ],
   "source": [
    "# this is the ordering that was established experimentally by (Miller & Charles, 1998)\n",
    "# car-automobile\n",
    "# gem-jewel\n",
    "# journey-voyage\n",
    "# boy-lad\n",
    "# coast-shore\n",
    "# asylum-madhouse\n",
    "# magician-wizard\n",
    "# midday-noon\n",
    "# furnace-stove\n",
    "# food-fruit\n",
    "# bird-cock\n",
    "# bird-crane\n",
    "# implement-tool\n",
    "# brother-monk\n",
    "# lad-brother\n",
    "# crane-implement\n",
    "# journey-car\n",
    "# monk-oracle\n",
    "# cemetery-woodland\n",
    "# food-rooster\n",
    "# coast-hill\n",
    "# forest-graveyard\n",
    "# shore-woodland\n",
    "# monk-slave\n",
    "# coast-forest\n",
    "# lad-wizard\n",
    "# chord-smile\n",
    "# glass-magician\n",
    "# noon-string\n",
    "# rooster-voyage\n",
    "\n",
    "pairs = [('car', 'automobile'), ('gem', 'jewel'), ('journey', 'voyage'), ('boy', 'lad'), ('coast', 'shore'),\n",
    "        ('asylum', 'madhouse'), ('magician', 'wizard'), ('midday', 'noon'), ('furnace', 'stove'), ('food', 'fruit'),\n",
    "        ('bird', 'cock'), ('bird', 'crane'), ('implement', 'tool'), ('brother', 'monk'), ('lad', 'brother'),\n",
    "        ('crane', 'implement'), ('journey', 'car'), ('monk', 'oracle'), ('cemetery', 'woodland'), ('food', 'rooster'),\n",
    "        ('coast', 'hill'), ('forest', 'graveyard'), ('shore', 'woodland'), ('monk', 'slave'), ('coast', 'forest'),\n",
    "        ('lad', 'wizard'), ('chord', 'smile'), ('glass', 'magician'), ('noon', 'string'), ('rooster', 'voyage')]\n",
    "results = []\n",
    "\n",
    "for pair in pairs:\n",
    "# iterate over all pairs     \n",
    "    max_sim = 0\n",
    "    synsets_0 = wordnet.synsets(pair[0])\n",
    "    synsets_1 = wordnet.synsets(pair[1])\n",
    "    for syn_0 in synsets_0:\n",
    "    # iterate over all synsets of the first word in pair\n",
    "        for syn_1 in synsets_1:\n",
    "        # iterate over all synsets of second word in pair\n",
    "            sim = syn_0.path_similarity(syn_1)\n",
    "            if sim != None and sim > max_sim:\n",
    "            # if \n",
    "                max_sim = sim\n",
    "    results.append((pair, max_sim))\n",
    "\n",
    "# print each result on its own line\n",
    "for result in results:\n",
    "    print(result)\n",
    "\n",
    "# print(results)\n",
    "results_sorted = sorted(results, key=lambda x:x[1], reverse=True)\n",
    "print(results_sorted)"
   ]
  },
  {
   "cell_type": "markdown",
   "metadata": {
    "id": "q4Fef7NVb7VQ"
   },
   "source": [
    "## Homework 5.1 (b)"
   ]
  },
  {
   "cell_type": "code",
   "execution_count": 51,
   "metadata": {
    "id": "sPRtvZPfGiNV"
   },
   "outputs": [
    {
     "name": "stdout",
     "output_type": "stream",
     "text": [
      "Spearman correlation: 0.7061994724138422\n"
     ]
    }
   ],
   "source": [
    "# Hint: you can use scipy to calculate the spearman correlation:\n",
    "correlation, _ = scipy.stats.spearmanr(range(len(pairs)), [1-value for pair, value in\n",
    "results])\n",
    "print(\"Spearman correlation:\", correlation)"
   ]
  },
  {
   "cell_type": "markdown",
   "metadata": {},
   "source": [
    "Explanation of spearmanr paramaters:\n",
    "\n",
    "The scipy function calculates Spearman's r for the two lists. The two lists we used as parameters are an array with the integers 0-30 because what interests us is the position of each pair in the list. The second list used is a list of 1-computeted similarity. This is done because the higher the calculated value is, the greater the similarity and the higher up it would be on the sorted list. 1 is the maximum similarity, therefore, a calculated similarity of 1 means the pair would be the first item in a sorted list and therefore have the index 0. \n",
    "\n",
    "\n",
    "Result:\n",
    "\n",
    "As the result shows, there is a relatively strong correlation between our ranking and the order given by Miller & Charles."
   ]
  },
  {
   "cell_type": "markdown",
   "metadata": {
    "id": "5F5lfnC1cDo2"
   },
   "source": [
    "## Homework 5.2\n",
    "\n",
    "... your answer"
   ]
  },
  {
   "cell_type": "code",
   "execution_count": 54,
   "metadata": {
    "id": "14-BycGTMnAL"
   },
   "outputs": [
    {
     "name": "stdout",
     "output_type": "stream",
     "text": [
      "[Synset('enchantress.n.02'), Synset('witch.n.02'), Synset('wiccan.n.01'), Synset('hag.n.01'), Synset('hex.v.01')]\n"
     ]
    }
   ],
   "source": [
    "# Get the synsets for \"witch\" and read their definitions...\n",
    "synsets_witch = wordnet.synsets('witch')\n",
    "print(synsets_witch)"
   ]
  },
  {
   "cell_type": "markdown",
   "metadata": {},
   "source": [
    "The resurned words are:\n",
    "\n",
    "- Enchantress\n",
    "- Witch\n",
    "- Wiccan\n",
    "- Hag\n",
    "- Hex\n",
    "\n",
    "These words are not completely synonymous even though they are similar. Nonethelesse, the context they are used in can be very different. For example, 'hag' has a very clear, negative connotation and is used mainly as a derogitory term, whereas Wiccan is a term for a follower of the Pagan religion, and witch is a more general, more neutral (albeit at times also with negative connotation), term describing a woman who practices magic. Therefore, these words are not always interchangable.\n",
    "\n",
    "Inappropriate substitutions can be avoided by looking at the context of the word. This can be done, for example, by looking at words that directly neighbor the word itself (using N-grams) or by considering the topic/genre of the text though this can first require determining the genre/topic if not already given."
   ]
  }
 ],
 "metadata": {
  "colab": {
   "collapsed_sections": [],
   "name": "Homework_5.ipynb",
   "provenance": []
  },
  "kernelspec": {
   "display_name": "Python 3",
   "language": "python",
   "name": "python3"
  },
  "language_info": {
   "codemirror_mode": {
    "name": "ipython",
    "version": 3
   },
   "file_extension": ".py",
   "mimetype": "text/x-python",
   "name": "python",
   "nbconvert_exporter": "python",
   "pygments_lexer": "ipython3",
   "version": "3.9.0"
  }
 },
 "nbformat": 4,
 "nbformat_minor": 1
}
