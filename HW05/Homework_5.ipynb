{
  "nbformat": 4,
  "nbformat_minor": 0,
  "metadata": {
    "colab": {
      "name": "Homework_5.ipynb",
      "provenance": [],
      "collapsed_sections": []
    },
    "kernelspec": {
      "name": "python3",
      "display_name": "Python 3"
    }
  },
  "cells": [
    {
      "cell_type": "code",
      "metadata": {
        "id": "kfgwV9E5B9c4"
      },
      "source": [
        "# Execute before and only in colab, if you use jupyter ignore this cell\n",
        "!pip install --target=$nb_path nltk==3.5\n",
        "!python3 -m nltk.downloader wordnet"
      ],
      "execution_count": null,
      "outputs": []
    },
    {
      "cell_type": "code",
      "metadata": {
        "id": "mYHoaiUQCWq3"
      },
      "source": [
        "import scipy\n",
        "import nltk\n",
        "from nltk.corpus import wordnet"
      ],
      "execution_count": null,
      "outputs": []
    },
    {
      "cell_type": "markdown",
      "metadata": {
        "id": "IITIbSkxbpTt"
      },
      "source": [
        "## Homework 5.1 (a)"
      ]
    },
    {
      "cell_type": "code",
      "metadata": {
        "id": "WtmmOIDIDjIK"
      },
      "source": [
        "# this is the ordering that was established experimentally by (Miller & Charles, 1998)\n",
        "# car-automobile\n",
        "# gem-jewel\n",
        "# journey-voyage\n",
        "# boy-lad\n",
        "# coast-shore\n",
        "# asylum-madhouse\n",
        "# magician-wizard\n",
        "# midday-noon\n",
        "# furnace-stove\n",
        "# food-fruit\n",
        "# bird-cock\n",
        "# bird-crane\n",
        "# implement-tool\n",
        "# brother-monk\n",
        "# lad-brother\n",
        "# crane-implement\n",
        "# journey-car\n",
        "# monk-oracle\n",
        "# cemetery-woodland\n",
        "# food-rooster\n",
        "# coast-hill\n",
        "# forest-graveyard\n",
        "# shore-woodland\n",
        "# monk-slave\n",
        "# coast-forest\n",
        "# lad-wizard\n",
        "# chord-smile\n",
        "# glass-magician\n",
        "# noon-string\n",
        "# rooster-voyage\n",
        "# TODO: add word pairs\n",
        "pairs = []\n",
        "results = []\n",
        "\n",
        "# TODO: Determine the path similarity for each pair of words\n",
        "\n",
        "# print each result on its own line\n",
        "for result in results:\n",
        "    print(result)"
      ],
      "execution_count": null,
      "outputs": []
    },
    {
      "cell_type": "markdown",
      "metadata": {
        "id": "q4Fef7NVb7VQ"
      },
      "source": [
        "## Homework 5.1 (b)"
      ]
    },
    {
      "cell_type": "code",
      "metadata": {
        "id": "sPRtvZPfGiNV"
      },
      "source": [
        "# Hint: you can use scipy to calculate the spearman correlation:\n",
        "# correlation, _ = scipy.stats.spearmanr(...)\n",
        "# print(\"Spearman correlation:\", correlation)"
      ],
      "execution_count": null,
      "outputs": []
    },
    {
      "cell_type": "markdown",
      "metadata": {
        "id": "5F5lfnC1cDo2"
      },
      "source": [
        "## Homework 5.2\n",
        "\n",
        "... your answer"
      ]
    },
    {
      "cell_type": "code",
      "metadata": {
        "id": "14-BycGTMnAL"
      },
      "source": [
        "# Get the synsets for \"witch\" and read their definitions..."
      ],
      "execution_count": null,
      "outputs": []
    }
  ]
}