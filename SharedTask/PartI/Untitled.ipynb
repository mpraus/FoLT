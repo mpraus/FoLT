{
 "cells": [
  {
   "cell_type": "markdown",
   "metadata": {},
   "source": [
    "# Shared Task\n"
   ]
  },
  {
   "cell_type": "code",
   "execution_count": 11,
   "metadata": {},
   "outputs": [],
   "source": [
    "from sklearn.metrics import cohen_kappa_score\n",
    "import pandas as pd"
   ]
  },
  {
   "cell_type": "markdown",
   "metadata": {},
   "source": [
    "## Task 2"
   ]
  },
  {
   "cell_type": "code",
   "execution_count": 15,
   "metadata": {},
   "outputs": [
    {
     "name": "stdout",
     "output_type": "stream",
     "text": [
      "0.5918367346938775\n"
     ]
    }
   ],
   "source": [
    "df = pd.read_csv('Task 2/test_annotators_1.csv')\n",
    "df_gold = pd.read_csv('gold_standard/please don\\'t read before the annotation/test_annotators_1.csv')\n",
    "\n",
    "print(sklearn.metrics.cohen_kappa_score(df['label'], df_gold['label']))"
   ]
  },
  {
   "cell_type": "markdown",
   "metadata": {},
   "source": [
    "## Task 3\n"
   ]
  },
  {
   "cell_type": "code",
   "execution_count": 19,
   "metadata": {},
   "outputs": [
    {
     "name": "stdout",
     "output_type": "stream",
     "text": [
      "0.8479087452471483\n"
     ]
    }
   ],
   "source": [
    "df = pd.read_csv('Task 3/test_annotators_2.csv')\n",
    "df_gold = pd.read_csv('gold_standard/please don\\'t read before the annotation/test_annotators_2.csv')\n",
    "\n",
    "print(sklearn.metrics.cohen_kappa_score(df['label'], df_gold['label']))"
   ]
  }
 ],
 "metadata": {
  "kernelspec": {
   "display_name": "Python 3",
   "language": "python",
   "name": "python3"
  },
  "language_info": {
   "codemirror_mode": {
    "name": "ipython",
    "version": 3
   },
   "file_extension": ".py",
   "mimetype": "text/x-python",
   "name": "python",
   "nbconvert_exporter": "python",
   "pygments_lexer": "ipython3",
   "version": "3.8.6"
  }
 },
 "nbformat": 4,
 "nbformat_minor": 4
}
